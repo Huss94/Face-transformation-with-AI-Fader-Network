{
 "cells": [
  {
   "cell_type": "markdown",
   "metadata": {},
   "source": [
    "# ABDELHAMID Hocine - 2100727 \n",
    "# BERIGOKLU Begum - ? \n",
    "# BOUHAFS Zakaria \n",
    "# OZKUL Sevan \n",
    "\n",
    "--------------------------------\n",
    "\n",
    "# FADER NETWORK\n",
    "\n",
    "In first place you need to downlad the data as explained in the README.md on our github repository : https://github.com/Huss94/FaderNetwork_MLA \\\n",
    "wil download for you the data\n"
   ]
  },
  {
   "cell_type": "code",
   "execution_count": 11,
   "metadata": {},
   "outputs": [],
   "source": [
    "import os \n",
    "import subprocess\n",
    "if not os.path.isdir(\"data\"):\n",
    "    print(\"création du fichier data\")\n",
    "    os.mkdir(\"data\")\n",
    "\n",
    "\n",
    "\n",
    "# On télécharge directement les images resized pour ne pas a voir a faire le processing\n",
    "if not os.path.isdir(\"data/img_align_celeba_resized\"):\n",
    "    if not os.path.isfile(\"data/img_align_celeba.zip\"):\n",
    "        print(\"téléchargement de align celeba_resized\")\n",
    "        !wget --load-cookies /tmp/cookies.txt \"https://docs.google.com/uc?export=download&confirm=$(wget --quiet --save-cookies /tmp/cookies.txt --keep-session-cookies --no-check-certificate 'https://docs.google.com/uc?export=download&id=1pJ3g0FRi1gMbJ1RBocgcsha2_doI-PW-' -O- | sed -rn 's/.*confirm=([0-9A-Za-z_]+).*/\\1\\n/p')&id=1pJ3g0FRi1gMbJ1RBocgcsha2_doI-PW-\" -O data/img_align_celeba_resized.zip && rm -rf /tmp/cookies.txt\n",
    "\n",
    "    !unzip img_align_celeba_resized.zip -d data/\n",
    "    !rm data/img_align_celeba_resized.zip\n",
    "    \n",
    "if not os.path.isfile(\"data/attributes.npz\"):\n",
    "    print(\"téléchargement des atrtibuts\")\n",
    "    !wget --load-cookies /tmp/cookies.txt \"https://docs.google.com/uc?export=download&confirm=$(wget --quiet --save-cookies /tmp/cookies.txt --keep-session-cookies --no-check-certificate 'https://docs.google.com/uc?export=download&id=1NnR_3yVfZxXGBmaKmI95bE9_p-EOrWRf' -O- | sed -rn 's/.*confirm=([0-9A-Za-z_]+).*/\\1\\n/p')&id=1NnR_3yVfZxXGBmaKmI95bE9_p-EOrWRf\" -O data/attributes.npz && rm -rf /tmp/cookies.txt"
   ]
  },
  {
   "cell_type": "code",
   "execution_count": 1,
   "metadata": {},
   "outputs": [
    {
     "name": "stdout",
     "output_type": "stream",
     "text": [
      "It seems that images have already been processed : data/img_align_celeba_resized\n",
      "It seems that attributes have already been processed : data/attributes.npz\n"
     ]
    }
   ],
   "source": [
    "!python preprocess.py --img_path \"data/img_align_celeba\" --img_save_path \"data/img_align_celeba_resized\" --attr_path \"data/list_attr_celeba.txt\" --attr_save_path \"data/attributes.npz\" "
   ]
  },
  {
   "cell_type": "markdown",
   "metadata": {},
   "source": [
    "Next step is to train a classifier (this step is optional)\\\n",
    "Our classifier is available in our repo in models/classifier \\\n"
   ]
  },
  {
   "cell_type": "code",
   "execution_count": 5,
   "metadata": {},
   "outputs": [
    {
     "name": "stdout",
     "output_type": "stream",
     "text": [
      "2022-12-04 02:49:07.546191: W tensorflow/stream_executor/platform/default/dso_loader.cc:64] Could not load dynamic library 'libcudart.so.11.0'; dlerror: libcudart.so.11.0: cannot open shared object file: No such file or directory; LD_LIBRARY_PATH: /home/huss/catkin_ws/devel/lib:/opt/ros/noetic/lib\n",
      "2022-12-04 02:49:07.546230: I tensorflow/stream_executor/cuda/cudart_stub.cc:29] Ignore above cudart dlerror if you do not have a GPU set up on your machine.\n",
      "2022-12-04 02:49:11.940704: W tensorflow/stream_executor/platform/default/dso_loader.cc:64] Could not load dynamic library 'libcuda.so.1'; dlerror: libcuda.so.1: cannot open shared object file: No such file or directory; LD_LIBRARY_PATH: /home/huss/.local/lib/python3.8/site-packages/cv2/../../lib64:/home/huss/catkin_ws/devel/lib:/opt/ros/noetic/lib\n",
      "2022-12-04 02:49:11.940750: W tensorflow/stream_executor/cuda/cuda_driver.cc:269] failed call to cuInit: UNKNOWN ERROR (303)\n",
      "2022-12-04 02:49:11.940787: I tensorflow/stream_executor/cuda/cuda_diagnostics.cc:156] kernel driver does not appear to be running on this host (HussPC): /proc/driver/nvidia/version does not exist\n",
      "2022-12-04 02:49:11.941442: I tensorflow/core/platform/cpu_feature_guard.cc:151] This TensorFlow binary is optimized with oneAPI Deep Neural Network Library (oneDNN) to use the following CPU instructions in performance-critical operations:  AVX2 FMA\n",
      "To enable them in other operations, rebuild TensorFlow with the appropriate compiler flags.\n",
      "Training:\n",
      "epoch : 1/5, 0/50000, accuracy = 0.53, loss = 27.72 calculé en : 48.98s\n",
      "epoch : 1/5, 32/50000, accuracy = 0.77, loss = 27.51 calculé en : 1.71s\n",
      "epoch : 1/5, 64/50000, accuracy = 0.76, loss = 27.02 calculé en : 2.01s\n",
      "epoch : 1/5, 96/50000, accuracy = 0.78, loss = 25.60 calculé en : 1.83s\n",
      "epoch : 1/5, 128/50000, accuracy = 0.77, loss = 23.10 calculé en : 1.77s\n",
      "epoch : 1/5, 160/50000, accuracy = 0.79, loss = 19.47 calculé en : 1.91s\n",
      "epoch : 1/5, 192/50000, accuracy = 0.81, loss = 21.39 calculé en : 1.69s\n",
      "epoch : 1/5, 224/50000, accuracy = 0.81, loss = 18.88 calculé en : 1.82s\n",
      "epoch : 1/5, 256/50000, accuracy = 0.79, loss = 19.05 calculé en : 1.78s\n",
      "epoch : 1/5, 288/50000, accuracy = 0.80, loss = 18.13 calculé en : 1.90s\n",
      "^C\n",
      "Traceback (most recent call last):\n",
      "  File \"classifier.py\", line 71, in <module>\n",
      "    l,a = C.train_step((batch_x, batch_y))\n",
      "  File \"/home/huss/.local/lib/python3.8/site-packages/tensorflow/python/util/traceback_utils.py\", line 150, in error_handler\n",
      "    return fn(*args, **kwargs)\n",
      "  File \"/home/huss/.local/lib/python3.8/site-packages/tensorflow/python/eager/def_function.py\", line 915, in __call__\n",
      "    result = self._call(*args, **kwds)\n",
      "  File \"/home/huss/.local/lib/python3.8/site-packages/tensorflow/python/eager/def_function.py\", line 947, in _call\n",
      "    return self._stateless_fn(*args, **kwds)  # pylint: disable=not-callable\n",
      "  File \"/home/huss/.local/lib/python3.8/site-packages/tensorflow/python/eager/function.py\", line 2956, in __call__\n",
      "    return graph_function._call_flat(\n",
      "  File \"/home/huss/.local/lib/python3.8/site-packages/tensorflow/python/eager/function.py\", line 1853, in _call_flat\n",
      "    return self._build_call_outputs(self._inference_function.call(\n",
      "  File \"/home/huss/.local/lib/python3.8/site-packages/tensorflow/python/eager/function.py\", line 499, in call\n",
      "    outputs = execute.execute(\n",
      "  File \"/home/huss/.local/lib/python3.8/site-packages/tensorflow/python/eager/execute.py\", line 54, in quick_execute\n",
      "    tensors = pywrap_tfe.TFE_Py_Execute(ctx._handle, device_name, op_name,\n",
      "KeyboardInterrupt\n"
     ]
    }
   ],
   "source": [
    "# train the classifier: \n",
    "!python classifier.py --img_path=\"data/img_align_celeba_resized\" --attr_path=\"data/attributes.npz\" --save_path=\"models\" --attr=\"*\" \n",
    "\n",
    "# The classifier will be saved at models/classifier and will be trained over all attributes"
   ]
  },
  {
   "cell_type": "markdown",
   "metadata": {},
   "source": [
    "# Fader training\n",
    "\n",
    "It is now time to train the fader network"
   ]
  },
  {
   "cell_type": "code",
   "execution_count": 8,
   "metadata": {},
   "outputs": [
    {
     "name": "stdout",
     "output_type": "stream",
     "text": [
      "2022-12-04 03:04:01.694733: W tensorflow/stream_executor/platform/default/dso_loader.cc:64] Could not load dynamic library 'libcudart.so.11.0'; dlerror: libcudart.so.11.0: cannot open shared object file: No such file or directory; LD_LIBRARY_PATH: /home/huss/.local/lib/python3.8/site-packages/cv2/../../lib64:/home/huss/catkin_ws/devel/lib:/opt/ros/noetic/lib\n",
      "2022-12-04 03:04:01.694761: I tensorflow/stream_executor/cuda/cudart_stub.cc:29] Ignore above cudart dlerror if you do not have a GPU set up on your machine.\n",
      "2022-12-04 03:04:03.439464: W tensorflow/stream_executor/platform/default/dso_loader.cc:64] Could not load dynamic library 'libcuda.so.1'; dlerror: libcuda.so.1: cannot open shared object file: No such file or directory; LD_LIBRARY_PATH: /home/huss/.local/lib/python3.8/site-packages/cv2/../../lib64:/home/huss/catkin_ws/devel/lib:/opt/ros/noetic/lib\n",
      "2022-12-04 03:04:03.439489: W tensorflow/stream_executor/cuda/cuda_driver.cc:269] failed call to cuInit: UNKNOWN ERROR (303)\n",
      "2022-12-04 03:04:03.439508: I tensorflow/stream_executor/cuda/cuda_diagnostics.cc:156] kernel driver does not appear to be running on this host (HussPC): /proc/driver/nvidia/version does not exist\n",
      "2022-12-04 03:04:03.440038: I tensorflow/core/platform/cpu_feature_guard.cc:151] This TensorFlow binary is optimized with oneAPI Deep Neural Network Library (oneDNN) to use the following CPU instructions in performance-critical operations:  AVX2 FMA\n",
      "To enable them in other operations, rebuild TensorFlow with the appropriate compiler flags.\n",
      "epoch : 0/1000, 0/50000,reonstruction loss : 0.40332, disc_loss : 0.69388, disc_accuracy = 0.46875, 7.05s\n",
      "epoch : 0/1000, 32/50000,reonstruction loss : 0.37947, disc_loss : 0.69164, disc_accuracy = 0.65625, 3.76s\n",
      "epoch : 0/1000, 64/50000,reonstruction loss : 0.37852, disc_loss : 0.68942, disc_accuracy = 0.59375, 3.43s\n",
      "epoch : 0/1000, 96/50000,reonstruction loss : 0.37691, disc_loss : 0.68512, disc_accuracy = 0.65625, 3.72s\n",
      "epoch : 0/1000, 128/50000,reonstruction loss : 0.38547, disc_loss : 0.68703, disc_accuracy = 0.59375, 4.37s\n",
      "^C\n",
      "Traceback (most recent call last):\n",
      "  File \"train.py\", line 105, in <module>\n",
      "    recon_loss, dis_loss,  dis_acc= f.train_step((batch_x, batch_y))\n",
      "  File \"/home/huss/.local/lib/python3.8/site-packages/tensorflow/python/util/traceback_utils.py\", line 150, in error_handler\n",
      "    return fn(*args, **kwargs)\n",
      "  File \"/home/huss/.local/lib/python3.8/site-packages/tensorflow/python/eager/def_function.py\", line 915, in __call__\n",
      "    result = self._call(*args, **kwds)\n",
      "  File \"/home/huss/.local/lib/python3.8/site-packages/tensorflow/python/eager/def_function.py\", line 947, in _call\n",
      "    return self._stateless_fn(*args, **kwds)  # pylint: disable=not-callable\n",
      "  File \"/home/huss/.local/lib/python3.8/site-packages/tensorflow/python/eager/function.py\", line 2956, in __call__\n",
      "    return graph_function._call_flat(\n",
      "  File \"/home/huss/.local/lib/python3.8/site-packages/tensorflow/python/eager/function.py\", line 1853, in _call_flat\n",
      "    return self._build_call_outputs(self._inference_function.call(\n",
      "  File \"/home/huss/.local/lib/python3.8/site-packages/tensorflow/python/eager/function.py\", line 499, in call\n",
      "    outputs = execute.execute(\n",
      "  File \"/home/huss/.local/lib/python3.8/site-packages/tensorflow/python/eager/execute.py\", line 54, in quick_execute\n",
      "    tensors = pywrap_tfe.TFE_Py_Execute(ctx._handle, device_name, op_name,\n",
      "KeyboardInterrupt\n"
     ]
    }
   ],
   "source": [
    "# On l'entraine sur l'attribut Male\n",
    "!python train.py --img_path=\"data/img_align_celeba_resized\" --attr_path=\"data/attributes.npz\" --save_path=\"models/Male\" --attr=\"Male\" \n",
    "\n",
    "\"\"\"\n",
    "It will generate 3 directory in models/Male\n",
    "\n",
    "Ae_best_loss\n",
    "Ae_best_acc\n",
    "Fader_backup\n",
    "\n",
    "Fader_backup is used te take back training\n",
    "Ae_best_loss is used for inferation,  it's an AutoEncoder that had the best reconstruction loss\n",
    "Ae_best_acc is the AutoEncoder model that had the best accuracy given by the classifier\n",
    "\"\"\"\n",
    "\n"
   ]
  },
  {
   "cell_type": "markdown",
   "metadata": {},
   "source": [
    "# Inferation\n",
    "\n",
    "Now our model is trained, we can easer use the script use_fader.py, or the gui we implemented.\n",
    "\n",
    "\n",
    "## Use_fader.py"
   ]
  },
  {
   "cell_type": "code",
   "execution_count": 9,
   "metadata": {},
   "outputs": [
    {
     "name": "stdout",
     "output_type": "stream",
     "text": [
      "2022-12-04 03:15:01.011504: W tensorflow/stream_executor/platform/default/dso_loader.cc:64] Could not load dynamic library 'libcudart.so.11.0'; dlerror: libcudart.so.11.0: cannot open shared object file: No such file or directory; LD_LIBRARY_PATH: /home/huss/catkin_ws/devel/lib:/opt/ros/noetic/lib\n",
      "2022-12-04 03:15:01.011538: I tensorflow/stream_executor/cuda/cudart_stub.cc:29] Ignore above cudart dlerror if you do not have a GPU set up on your machine.\n",
      "Traceback (most recent call last):\n",
      "  File \"use_fader.py\", line 40, in <module>\n",
      "    ae = load_model(params.model_path, model_type = 'ae')\n",
      "  File \"/media/huss/CE6698AB66989635/Users/tendl/Desktop/M2/MLA/Projet/FD/utils.py\", line 85, in load_model\n",
      "    params = np.load(path + '/'+ params_name, allow_pickle = True).item()\n",
      "  File \"/home/huss/.local/lib/python3.8/site-packages/numpy/lib/npyio.py\", line 407, in load\n",
      "    fid = stack.enter_context(open(os_fspath(file), \"rb\"))\n",
      "FileNotFoundError: [Errno 2] No such file or directory: 'models.Male/Ae_best_loss/params.npy'\n"
     ]
    }
   ],
   "source": [
    "\n",
    "#use_fader.py will create an image called gridOfCelibrity.jpg in the folder images which is an interpollation for different value of y \n",
    "!python use_fader.py --img_path=\"data/img_align_celeba_resized\" --attr_path=\"data/attributes.npz\" --model_path \"models.Male/Ae_best_loss\" --alpha_min -1 --alpha_max 3\n",
    "\n"
   ]
  },
  {
   "cell_type": "markdown",
   "metadata": {},
   "source": [
    "## GUI"
   ]
  },
  {
   "cell_type": "code",
   "execution_count": 10,
   "metadata": {},
   "outputs": [
    {
     "name": "stdout",
     "output_type": "stream",
     "text": [
      "2022-12-04 03:15:23.850256: W tensorflow/stream_executor/platform/default/dso_loader.cc:64] Could not load dynamic library 'libcudart.so.11.0'; dlerror: libcudart.so.11.0: cannot open shared object file: No such file or directory; LD_LIBRARY_PATH: /home/huss/catkin_ws/devel/lib:/opt/ros/noetic/lib\n",
      "2022-12-04 03:15:23.850289: I tensorflow/stream_executor/cuda/cudart_stub.cc:29] Ignore above cudart dlerror if you do not have a GPU set up on your machine.\n",
      "2022-12-04 03:17:20.440702: W tensorflow/stream_executor/platform/default/dso_loader.cc:64] Could not load dynamic library 'libcuda.so.1'; dlerror: libcuda.so.1: cannot open shared object file: No such file or directory; LD_LIBRARY_PATH: /home/huss/.local/lib/python3.8/site-packages/cv2/../../lib64:/home/huss/catkin_ws/devel/lib:/opt/ros/noetic/lib\n",
      "2022-12-04 03:17:20.440752: W tensorflow/stream_executor/cuda/cuda_driver.cc:269] failed call to cuInit: UNKNOWN ERROR (303)\n",
      "2022-12-04 03:17:20.440777: I tensorflow/stream_executor/cuda/cuda_diagnostics.cc:156] kernel driver does not appear to be running on this host (HussPC): /proc/driver/nvidia/version does not exist\n",
      "2022-12-04 03:17:20.441492: I tensorflow/core/platform/cpu_feature_guard.cc:151] This TensorFlow binary is optimized with oneAPI Deep Neural Network Library (oneDNN) to use the following CPU instructions in performance-critical operations:  AVX2 FMA\n",
      "To enable them in other operations, rebuild TensorFlow with the appropriate compiler flags.\n",
      "Exception ignored in: <function _CheckpointRestoreCoordinatorDeleter.__del__ at 0x7f5785af30d0>\n",
      "Traceback (most recent call last):\n",
      "  File \"/home/huss/.local/lib/python3.8/site-packages/tensorflow/python/training/tracking/util.py\", line 174, in __del__\n",
      "TypeError: 'NoneType' object is not callable\n"
     ]
    }
   ],
   "source": [
    "!python gui.py"
   ]
  }
 ],
 "metadata": {
  "kernelspec": {
   "display_name": "Python 3.8.10 64-bit",
   "language": "python",
   "name": "python3"
  },
  "language_info": {
   "codemirror_mode": {
    "name": "ipython",
    "version": 3
   },
   "file_extension": ".py",
   "mimetype": "text/x-python",
   "name": "python",
   "nbconvert_exporter": "python",
   "pygments_lexer": "ipython3",
   "version": "3.8.10"
  },
  "orig_nbformat": 4,
  "vscode": {
   "interpreter": {
    "hash": "e7370f93d1d0cde622a1f8e1c04877d8463912d04d973331ad4851f04de6915a"
   }
  }
 },
 "nbformat": 4,
 "nbformat_minor": 2
}
