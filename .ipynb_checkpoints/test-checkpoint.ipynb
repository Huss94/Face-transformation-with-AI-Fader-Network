{
 "cells": [
  {
   "cell_type": "code",
   "execution_count": 1,
   "metadata": {},
   "outputs": [
    {
     "name": "stderr",
     "output_type": "stream",
     "text": [
      "2022-12-03 23:34:29.894454: W tensorflow/stream_executor/platform/default/dso_loader.cc:64] Could not load dynamic library 'libcudart.so.11.0'; dlerror: libcudart.so.11.0: cannot open shared object file: No such file or directory; LD_LIBRARY_PATH: /home/huss/catkin_ws/devel/lib:/opt/ros/noetic/lib\n",
      "2022-12-03 23:34:29.894493: I tensorflow/stream_executor/cuda/cudart_stub.cc:29] Ignore above cudart dlerror if you do not have a GPU set up on your machine.\n",
      "2022-12-03 23:34:41.083788: W tensorflow/stream_executor/platform/default/dso_loader.cc:64] Could not load dynamic library 'libcuda.so.1'; dlerror: libcuda.so.1: cannot open shared object file: No such file or directory; LD_LIBRARY_PATH: /home/huss/.local/lib/python3.8/site-packages/cv2/../../lib64:/home/huss/catkin_ws/devel/lib:/opt/ros/noetic/lib\n",
      "2022-12-03 23:34:41.084043: W tensorflow/stream_executor/cuda/cuda_driver.cc:269] failed call to cuInit: UNKNOWN ERROR (303)\n",
      "2022-12-03 23:34:41.084068: I tensorflow/stream_executor/cuda/cuda_diagnostics.cc:156] kernel driver does not appear to be running on this host (HussPC): /proc/driver/nvidia/version does not exist\n",
      "2022-12-03 23:34:41.084602: I tensorflow/core/platform/cpu_feature_guard.cc:151] This TensorFlow binary is optimized with oneAPI Deep Neural Network Library (oneDNN) to use the following CPU instructions in performance-critical operations:  AVX2 FMA\n",
      "To enable them in other operations, rebuild TensorFlow with the appropriate compiler flags.\n",
      "2022-12-03 23:34:41.119484: W tensorflow/core/framework/cpu_allocator_impl.cc:82] Allocation of 16842752 exceeds 10% of free system memory.\n",
      "2022-12-03 23:34:41.129223: W tensorflow/core/framework/cpu_allocator_impl.cc:82] Allocation of 16842752 exceeds 10% of free system memory.\n",
      "2022-12-03 23:34:41.132883: W tensorflow/core/framework/cpu_allocator_impl.cc:82] Allocation of 16842752 exceeds 10% of free system memory.\n",
      "2022-12-03 23:34:41.154483: W tensorflow/core/framework/cpu_allocator_impl.cc:82] Allocation of 16777216 exceeds 10% of free system memory.\n",
      "2022-12-03 23:34:41.164889: W tensorflow/core/framework/cpu_allocator_impl.cc:82] Allocation of 16777216 exceeds 10% of free system memory.\n"
     ]
    },
    {
     "name": "stdout",
     "output_type": "stream",
     "text": [
      "INFERATION\n",
      "END INFERATION\n",
      "INFERATION\n",
      "END INFERATION\n",
      "INFERATION\n",
      "END INFERATION\n",
      "INFERATION\n",
      "END INFERATION\n",
      "INFERATION\n",
      "END INFERATION\n",
      "INFERATION\n",
      "END INFERATION\n",
      "INFERATION\n",
      "END INFERATION\n",
      "INFERATION\n",
      "END INFERATION\n",
      "INFERATION\n",
      "END INFERATION\n",
      "INFERATION\n",
      "END INFERATION\n",
      "INFERATION\n",
      "END INFERATION\n",
      "INFERATION\n",
      "END INFERATION\n",
      "INFERATION\n",
      "END INFERATION\n",
      "INFERATION\n",
      "END INFERATION\n",
      "INFERATION\n",
      "END INFERATION\n",
      "INFERATION\n",
      "END INFERATION\n",
      "INFERATION\n",
      "END INFERATION\n",
      "INFERATION\n",
      "END INFERATION\n",
      "INFERATION\n",
      "END INFERATION\n",
      "INFERATION\n",
      "END INFERATION\n",
      "INFERATION\n",
      "END INFERATION\n",
      "INFERATION\n",
      "END INFERATION\n",
      "INFERATION\n",
      "END INFERATION\n",
      "INFERATION\n",
      "END INFERATION\n",
      "INFERATION\n",
      "END INFERATION\n"
     ]
    }
   ],
   "source": [
    "from gui import gui\n",
    "\n",
    "\n"
   ]
  },
  {
   "cell_type": "code",
   "execution_count": null,
   "metadata": {},
   "outputs": [],
   "source": [
    "a = gui()\n"
   ]
  }
 ],
 "metadata": {
  "kernelspec": {
   "display_name": "Python 3 (ipykernel)",
   "language": "python",
   "name": "python3"
  },
  "language_info": {
   "codemirror_mode": {
    "name": "ipython",
    "version": 3
   },
   "file_extension": ".py",
   "mimetype": "text/x-python",
   "name": "python",
   "nbconvert_exporter": "python",
   "pygments_lexer": "ipython3",
   "version": "3.8.10"
  },
  "vscode": {
   "interpreter": {
    "hash": "e7370f93d1d0cde622a1f8e1c04877d8463912d04d973331ad4851f04de6915a"
   }
  }
 },
 "nbformat": 4,
 "nbformat_minor": 2
}
